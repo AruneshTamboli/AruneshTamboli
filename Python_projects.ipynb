{
  "nbformat": 4,
  "nbformat_minor": 0,
  "metadata": {
    "colab": {
      "name": "Python_projects.ipynb",
      "provenance": [],
      "collapsed_sections": [],
      "authorship_tag": "ABX9TyO3L1Kd7/FByNUxTcXXoW+6",
      "include_colab_link": true
    },
    "kernelspec": {
      "name": "python3",
      "display_name": "Python 3"
    },
    "language_info": {
      "name": "python"
    }
  },
  "cells": [
    {
      "cell_type": "markdown",
      "metadata": {
        "id": "view-in-github",
        "colab_type": "text"
      },
      "source": [
        "<a href=\"https://colab.research.google.com/github/AruneshTamboli/AruneshTamboli/blob/main/Python_projects.ipynb\" target=\"_parent\"><img src=\"https://colab.research.google.com/assets/colab-badge.svg\" alt=\"Open In Colab\"/></a>"
      ]
    },
    {
      "cell_type": "markdown",
      "source": [
        "# **Python Project 1**"
      ],
      "metadata": {
        "id": "Retzt_0jcYlg"
      }
    },
    {
      "cell_type": "markdown",
      "source": [
        "### Write a Python program which will keep adding a stream of numbers inputted by the user. the adding stops as soon as user presses q key on the keyboard"
      ],
      "metadata": {
        "id": "-XO25RxdLyVV"
      }
    },
    {
      "cell_type": "code",
      "execution_count": null,
      "metadata": {
        "colab": {
          "base_uri": "https://localhost:8080/"
        },
        "id": "G3JErmL4LMiq",
        "outputId": "fa8b4d1f-3a27-4e36-a3cf-0be3b493c397"
      },
      "outputs": [
        {
          "output_type": "stream",
          "name": "stdout",
          "text": [
            "Enter the item price or press q quit: \n",
            "5\n",
            "Order total so far: 5\n",
            "Enter the item price or press q quit: \n",
            "q\n",
            "Your Total bill is 5. Thanks for shopping with us\n"
          ]
        }
      ],
      "source": [
        "sum = 0\n",
        "\n",
        "while(True):\n",
        "  userInput = input(\"Enter the item price or press q quit: \\n\")\n",
        "\n",
        "  if userInput != 'q':\n",
        "    sum = sum + int(userInput)\n",
        "    print(f\"Order total so far: {sum}\")\n",
        "  else:\n",
        "    print(f\"Your Total bill is {sum}. Thanks for shopping with us\")\n",
        "    break\n"
      ]
    },
    {
      "cell_type": "markdown",
      "source": [
        "### Use case of this code: You can build a recipt printer with the help of above code."
      ],
      "metadata": {
        "id": "4AeJTkYGcJZ6"
      }
    },
    {
      "cell_type": "markdown",
      "source": [
        "You can also build a customer recipt to give it to customer after his purchase which can be in kist format (like in dmart)"
      ],
      "metadata": {
        "id": "MDtLo4-zc5B1"
      }
    },
    {
      "cell_type": "markdown",
      "source": [
        "# **Python Project 2**\n",
        "\n",
        "\n",
        "\n"
      ],
      "metadata": {
        "id": "3ZrylpkteRPP"
      }
    },
    {
      "cell_type": "markdown",
      "source": [
        "### Part 1 - Calculate the factorial of a given number\n",
        "### Part 2 - Find the number of trailing zeros in that factorial "
      ],
      "metadata": {
        "id": "w1jnc12EeUjR"
      }
    },
    {
      "cell_type": "markdown",
      "source": [
        "There are 3 ways to find factorial of a given number.\n",
        "1. importing math library\n",
        "2. factorial of a number using loop\n",
        "3. factorial of a number using recursion. (Recursion is a computer programming technique involving the use of a procedure, subroutine, function, or algorithm that calls itself in a step having a termination condition so that successive repetitions are processed up to the critical step where the condition is met at which time the rest of each repetition is processed from the last one called to the first.)"
      ],
      "metadata": {
        "id": "OyCQapEviWKc"
      }
    },
    {
      "cell_type": "markdown",
      "source": [
        "num = 0 or 1, facto = 1\n",
        "\n",
        "num>1\n",
        "\n",
        "num<1, 0"
      ],
      "metadata": {
        "id": "mkgk1d1dkgDM"
      }
    },
    {
      "cell_type": "code",
      "source": [
        "#importing math library\n",
        "import math\n",
        "math.factorial(6)"
      ],
      "metadata": {
        "id": "N3nKiO_xL4mh",
        "colab": {
          "base_uri": "https://localhost:8080/"
        },
        "outputId": "a26ba300-348e-432d-d3b2-7fb3c93b8e80"
      },
      "execution_count": null,
      "outputs": [
        {
          "output_type": "execute_result",
          "data": {
            "text/plain": [
              "720"
            ]
          },
          "metadata": {},
          "execution_count": 20
        }
      ]
    },
    {
      "cell_type": "code",
      "source": [
        "# using loop\n",
        "def fact(userInput):\n",
        "  count = 1\n",
        "\n",
        "  if userInput ==0 or userInput ==1:\n",
        "    return 1\n",
        "  elif userInput< 0:\n",
        "    return 0\n",
        "  else:\n",
        "    for i in range(1, userInput+1):\n",
        "      count = count*i\n",
        "    print(f\"factorial for {userInput} is {count}\")"
      ],
      "metadata": {
        "id": "YAu_U9TML4kA"
      },
      "execution_count": null,
      "outputs": []
    },
    {
      "cell_type": "code",
      "source": [
        "fact(5)"
      ],
      "metadata": {
        "id": "LLBbjIgOL4hO",
        "colab": {
          "base_uri": "https://localhost:8080/"
        },
        "outputId": "8b779229-fda6-499b-aeea-7eaecc71a04d"
      },
      "execution_count": null,
      "outputs": [
        {
          "output_type": "stream",
          "name": "stdout",
          "text": [
            "factorial for 5 is 120\n"
          ]
        }
      ]
    },
    {
      "cell_type": "code",
      "source": [
        "#using recursion\n",
        "\n",
        "def facto(number):\n",
        "  if number == 0 or number ==1:\n",
        "    return 1\n",
        "  elif number < 0:\n",
        "    return 0\n",
        "  else:\n",
        "    return number*facto(number-1)"
      ],
      "metadata": {
        "id": "ZMK-l2DPL4ej"
      },
      "execution_count": null,
      "outputs": []
    },
    {
      "cell_type": "code",
      "source": [
        "#Extra work   Reference: programiz.coom\n",
        "\n",
        "number = int(input(\"Enter number: \"))\n",
        "final_facto = facto(number)\n",
        "print(f\"Factorial for given number: {number} is {final_facto}\")"
      ],
      "metadata": {
        "colab": {
          "base_uri": "https://localhost:8080/"
        },
        "id": "fu4B6Pl4mabE",
        "outputId": "ffd75055-597a-42d5-d035-953f3c175869"
      },
      "execution_count": null,
      "outputs": [
        {
          "output_type": "stream",
          "name": "stdout",
          "text": [
            "Enter number: 5\n",
            "Factorial for given number: 5 is 720\n"
          ]
        }
      ]
    },
    {
      "cell_type": "markdown",
      "source": [
        "### Part 2 - Find the number of trailing zeros in that factorial\n"
      ],
      "metadata": {
        "id": "okEsn1eGnxdL"
      }
    },
    {
      "cell_type": "code",
      "source": [
        "def FactorialTrailingZeros(number):\n",
        "  count = 0\n",
        "  i=5\n",
        "  while number // i !=0:\n",
        "    count = count + int(number/i)\n",
        "    i = i*5\n",
        "  return count\n"
      ],
      "metadata": {
        "id": "0TzzJ_yskoW7"
      },
      "execution_count": null,
      "outputs": []
    },
    {
      "cell_type": "code",
      "source": [
        "FactorialTrailingZeros(20)"
      ],
      "metadata": {
        "colab": {
          "base_uri": "https://localhost:8080/"
        },
        "id": "5EhMgb5HkoUQ",
        "outputId": "e42cdef3-3d0c-41ea-b570-d80a05697fde"
      },
      "execution_count": null,
      "outputs": [
        {
          "output_type": "execute_result",
          "data": {
            "text/plain": [
              "4"
            ]
          },
          "metadata": {},
          "execution_count": 91
        }
      ]
    },
    {
      "cell_type": "code",
      "source": [
        "if __name__ == '__main__':\n",
        "  number = int(input(\"enter a number:\\n \"))\n",
        "  print(FactorialTrailingZeros(number))"
      ],
      "metadata": {
        "colab": {
          "base_uri": "https://localhost:8080/"
        },
        "id": "GWDsQwdHkoRx",
        "outputId": "4e57fcb9-ba1d-40ca-976f-7a80b5e245cc"
      },
      "execution_count": null,
      "outputs": [
        {
          "output_type": "stream",
          "name": "stdout",
          "text": [
            "enter a number:\n",
            " 5\n",
            "1\n"
          ]
        }
      ]
    },
    {
      "cell_type": "markdown",
      "source": [
        "# **Python project 3**"
      ],
      "metadata": {
        "id": "P-Gk1DRIlR7R"
      }
    },
    {
      "cell_type": "markdown",
      "source": [
        "## How to create a currency converter in python ?"
      ],
      "metadata": {
        "id": "Rau42_VtlFSL"
      }
    },
    {
      "cell_type": "code",
      "source": [
        "with open('/content/coverterdata.txt') as f:\n",
        "\tlines = f.readlines()"
      ],
      "metadata": {
        "id": "0cv6h8QvkoKi"
      },
      "execution_count": null,
      "outputs": []
    },
    {
      "cell_type": "code",
      "source": [
        "print(lines)"
      ],
      "metadata": {
        "id": "PL-GzQ30koHZ",
        "colab": {
          "base_uri": "https://localhost:8080/"
        },
        "outputId": "2a384697-8d23-4537-e9ba-9b61924a09fa"
      },
      "execution_count": null,
      "outputs": [
        {
          "output_type": "stream",
          "name": "stdout",
          "text": [
            "['Argentine Peso\\t1.115338\\t0.896589\\n', 'Australian Dollar\\t0.017966\\t55.660476\\n', 'Bahraini Dinar\\t0.005109\\t195.726140\\n', 'Botswana Pula\\t0.149039\\t6.709659\\n', 'Brazilian Real\\t0.068308\\t14.639623\\n', 'British Pound\\t0.010200\\t98.042160\\n', 'Bruneian Dollar\\t0.018113\\t55.210090\\n', 'Bulgarian Lev\\t0.021856\\t45.754931\\n', 'Canadian Dollar\\t0.017286\\t57.849228\\n', 'Chilean Peso\\t9.984351\\t0.100157\\n', 'Chinese Yuan Renminbi\\t0.088853\\t11.254577\\n', 'Colombian Peso\\t46.472740\\t0.021518\\n', 'Croatian Kuna\\t0.084281\\t11.865041\\n', 'Czech Koruna\\t0.294208\\t3.398959\\n', 'Danish Krone\\t0.083171\\t12.023476\\n', 'Emirati Dirham\\t0.049903\\t20.038946\\n', 'Euro\\t0.011175\\t89.488866\\n', 'Hong Kong Dollar\\t0.105329\\t9.494061\\n', 'Hungarian Forint\\t3.954032\\t0.252906\\n', 'Icelandic Krona\\t1.728425\\t0.578561\\n', 'Indonesian Rupiah\\t191.655288\\t0.005218\\n', 'Iranian Rial\\t568.665341\\t0.001759\\n', 'Israeli Shekel\\t0.044178\\t22.635679\\n', 'Japanese Yen\\t1.413723\\t0.707352\\n', 'Kazakhstani Tenge\\t5.696617\\t0.175543\\n', 'Kuwaiti Dinar\\t0.004145\\t241.232117\\n', 'Libyan Dinar\\t0.018288\\t54.679837\\n', 'Malaysian Ringgit\\t0.054995\\t18.183521\\n', 'Mauritian Rupee\\t0.537754\\t1.859587\\n', 'Mexican Peso\\t0.271623\\t3.681572\\n', 'Nepalese Rupee\\t1.607500\\t0.622084\\n', 'New Zealand Dollar\\t0.019132\\t52.267460\\n', 'Norwegian Krone\\t0.118981\\t8.404735\\n', 'Omani Rial\\t0.005225\\t191.399294\\n', 'Pakistani Rupee\\t2.173161\\t0.460159\\n', 'Philippine Peso\\t0.653161\\t1.531016\\n', 'Polish Zloty\\t0.049474\\t20.212818\\n', 'Qatari Riyal\\t0.049461\\t20.217865\\n', 'Romanian New Leu\\t0.054403\\t18.381264\\n', 'Russian Ruble\\t0.993034\\t1.007015\\n', 'Saudi Arabian Riyal\\t0.050956\\t19.624808\\n', 'Singapore Dollar\\t0.018113\\t55.210090\\n', 'South African Rand\\t0.204165\\t4.897995\\n', 'South Korean Won\\t14.810964\\t0.067518\\n', 'Sri Lankan Rupee\\t2.529038\\t0.395407\\n', 'Swedish Krona\\t0.114455\\t8.737087\\n', 'Swiss Franc\\t0.012034\\t83.097635\\n', 'Taiwan New Dollar\\t0.382560\\t2.613972\\n', 'Thai Baht\\t0.407954\\t2.451255\\n', 'Trinidadian Dollar\\t0.092336\\t10.830042\\n', 'Turkish Lira\\t0.107358\\t9.314632\\n', 'US Dollar\\t0.013588\\t73.593029\\n', 'Venezuelan Bolivar\\t0.135713\\t7.368513']\n"
          ]
        }
      ]
    },
    {
      "cell_type": "code",
      "source": [
        "currencyDict = {}\n",
        "for line in lines:\n",
        "  parsed = line.split(\"\\t\")\n",
        "  currencyDict[parsed[0]] = parsed[1]\n",
        "\n",
        "\n",
        "amount = int(input(\"Enter amount: \"))\n",
        "print(\"Enter the name of currency you want to convert to? Available options: \\n\")\n",
        "\n",
        "[print(item) for item in currencyDict.keys()]              #list comprehension\n",
        "currency = input(\"Please enter one of these values: \\n\")\n",
        "print(f\"{amount} INR is equal to {amount*float(currencyDict[currency])} {currency}\")"
      ],
      "metadata": {
        "id": "LiVYbjL7pzr7"
      },
      "execution_count": null,
      "outputs": []
    },
    {
      "cell_type": "code",
      "source": [
        "#same code with \"for loop insteads of list comprehension\"\n",
        "\n",
        "currencyDict = {}\n",
        "for line in lines:\n",
        "  parsed = line.split(\"\\t\")\n",
        "  currencyDict[parsed[0]] = parsed[1]\n",
        "\n",
        "\n",
        "amount = int(input(\"Enter amount: \"))\n",
        "print(\"Enter the name of currency you want to convert to? Available options: \\n\")\n",
        "\n",
        "for item in currencyDict.keys():                 #for loop\n",
        "  print(item)\n",
        "currency = input(\"Please enter one of these values: \\n\")\n",
        "print(f\"{amount} INR is equal to {amount*float(currencyDict[currency])} {currency}\")"
      ],
      "metadata": {
        "id": "D-8q2J1nvZZj"
      },
      "execution_count": null,
      "outputs": []
    },
    {
      "cell_type": "markdown",
      "source": [
        "# **Python Project 4**"
      ],
      "metadata": {
        "id": "YLaQ72082NiH"
      }
    },
    {
      "cell_type": "markdown",
      "source": [
        "## How To Create A Python HTTP Server For Web Development?"
      ],
      "metadata": {
        "id": "6RlrPEkg2SpG"
      }
    },
    {
      "cell_type": "markdown",
      "source": [
        "![Screenshot 2022-01-10 124844.png](data:image/png;base64,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)"
      ],
      "metadata": {
        "id": "MnfvZjjR2sAA"
      }
    },
    {
      "cell_type": "markdown",
      "source": [
        "# **60 Python Projects with Source Code**"
      ],
      "metadata": {
        "id": "QykRcvf6Cg97"
      }
    },
    {
      "cell_type": "markdown",
      "source": [
        "## **Create Acronyms using Python**\n",
        "\n",
        "* Acronyms are usually formed using the first letter (or letters) of each word in a phrase."
      ],
      "metadata": {
        "id": "xRtXsbb_Dceg"
      }
    },
    {
      "cell_type": "markdown",
      "source": [
        "Approach 1:\n",
        "\n",
        "The following steps are required:\n",
        "\n",
        "Take input as a string.\n",
        "\n",
        "Add the first letter of string to output.\n",
        "\n",
        "Iterate over the full string and add every next letter to space to output.\n",
        "\n",
        "Change the output to uppercase(required acronym)."
      ],
      "metadata": {
        "id": "FQJ8NMwJPfL9"
      }
    },
    {
      "cell_type": "code",
      "source": [
        "user_input = str(input(\"Enter the phrase:\"))\n",
        "\n",
        "output = user_input[0]\n",
        "for i in range(1, len(user_input)):\n",
        "  if user_input[i-1] == \" \":\n",
        "    output = output + user_input[i]\n",
        "print(output.upper())\n"
      ],
      "metadata": {
        "colab": {
          "base_uri": "https://localhost:8080/"
        },
        "id": "gBw0-GvKPqWl",
        "outputId": "d9a06167-b9ef-4540-f1ab-9b0390ae6d13"
      },
      "execution_count": null,
      "outputs": [
        {
          "output_type": "stream",
          "name": "stdout",
          "text": [
            "Enter the phrase:cat rat\n",
            "CR\n"
          ]
        }
      ]
    },
    {
      "cell_type": "markdown",
      "source": [
        "Approach 2:\n",
        "\n",
        "The following steps are required:\n",
        "\n",
        "Take input as a string.\n",
        "\n",
        "Split the words.\n",
        "\n",
        "Iterate over words and add the first letter to output.\n",
        "\n",
        "Change the output to uppercase(required acronym)."
      ],
      "metadata": {
        "id": "z0d9JiDcRJMG"
      }
    },
    {
      "cell_type": "code",
      "source": [
        "user_input = str(input(\"Enter the phrase:\"))\n",
        "lst = user_input.split()\n",
        "output = \"\"\n",
        "for word in lst:\n",
        "  output = output+word[0]\n",
        "print(output.upper())\n"
      ],
      "metadata": {
        "id": "Se30RvYgzDvZ",
        "colab": {
          "base_uri": "https://localhost:8080/"
        },
        "outputId": "8f23ce42-b201-46d3-d3e3-3007e133d18e"
      },
      "execution_count": null,
      "outputs": [
        {
          "output_type": "stream",
          "name": "stdout",
          "text": [
            "Enter the phrase:car rat\n",
            "CR\n"
          ]
        }
      ]
    },
    {
      "cell_type": "markdown",
      "source": [
        "# **Email Slicer with Python**\n"
      ],
      "metadata": {
        "id": "Laj3Nt9-dOcB"
      }
    },
    {
      "cell_type": "code",
      "source": [
        "# I made this code from skretch\n",
        "\n",
        "user_input = str(input(\"Enter your Email ID: \")) #take input from user\n",
        "user_input.strip()                                #to make sure there is no space after words, using strip\n",
        "output = user_input.split('@')                   #splitting on the basis of \"@\" to divide user name and domain name\n",
        "print(f\"user name: {output[0]}\\nDomain name: {output[1]}\")             #giving final output"
      ],
      "metadata": {
        "id": "rRr-9_T5zDp0",
        "colab": {
          "base_uri": "https://localhost:8080/"
        },
        "outputId": "926e8aa1-1777-48af-9167-9aec0d87b82e"
      },
      "execution_count": null,
      "outputs": [
        {
          "output_type": "stream",
          "name": "stdout",
          "text": [
            "Enter your Email ID: as@faster\n",
            "user name: as\n",
            "Domain name: faster\n"
          ]
        }
      ]
    },
    {
      "cell_type": "code",
      "source": [
        "# iss code maine extend kia hai but isko check krana hai\n",
        "\n",
        "user_input = str(input(\"Enter your Email ID: \")) #take input from user\n",
        "\n",
        "def simplify_mail(user_input):\n",
        "\n",
        "  if '@' in user_input:\n",
        "    user_input.strip()\n",
        "    output = user_input.split('@')\n",
        "    print(f\"user name: {output[0]}\\nDomain name: {output[1]}\")\n",
        "  else:\n",
        "    print(\"Please input correct format\")"
      ],
      "metadata": {
        "colab": {
          "base_uri": "https://localhost:8080/",
          "height": 130
        },
        "id": "DcWwj1iHfLsW",
        "outputId": "6dec385d-007b-4a01-8735-925c3404132f"
      },
      "execution_count": null,
      "outputs": [
        {
          "output_type": "error",
          "ename": "SyntaxError",
          "evalue": "ignored",
          "traceback": [
            "\u001b[0;36m  File \u001b[0;32m\"<ipython-input-26-8b95e1db6d0c>\"\u001b[0;36m, line \u001b[0;32m5\u001b[0m\n\u001b[0;31m    def simplify_mail('user_input'):\u001b[0m\n\u001b[0m                                 ^\u001b[0m\n\u001b[0;31mSyntaxError\u001b[0m\u001b[0;31m:\u001b[0m invalid syntax\n"
          ]
        }
      ]
    },
    {
      "cell_type": "code",
      "source": [
        "simplify_mail(ast)"
      ],
      "metadata": {
        "colab": {
          "base_uri": "https://localhost:8080/",
          "height": 165
        },
        "id": "LCWDHaUMiafK",
        "outputId": "3d3b5c04-ecfc-457a-a18b-ab293e915250"
      },
      "execution_count": null,
      "outputs": [
        {
          "output_type": "error",
          "ename": "NameError",
          "evalue": "ignored",
          "traceback": [
            "\u001b[0;31m---------------------------------------------------------------------------\u001b[0m",
            "\u001b[0;31mNameError\u001b[0m                                 Traceback (most recent call last)",
            "\u001b[0;32m<ipython-input-25-8181d8e461a7>\u001b[0m in \u001b[0;36m<module>\u001b[0;34m()\u001b[0m\n\u001b[0;32m----> 1\u001b[0;31m \u001b[0msimplify_mail\u001b[0m\u001b[0;34m(\u001b[0m\u001b[0mast\u001b[0m\u001b[0;34m)\u001b[0m\u001b[0;34m\u001b[0m\u001b[0;34m\u001b[0m\u001b[0m\n\u001b[0m",
            "\u001b[0;31mNameError\u001b[0m: name 'ast' is not defined"
          ]
        }
      ]
    },
    {
      "cell_type": "markdown",
      "source": [
        "# **Story Generator with Python**"
      ],
      "metadata": {
        "id": "jKCa6ObIjd9c"
      }
    },
    {
      "cell_type": "code",
      "source": [
        "import random #importing inbuilt module\n",
        "\n",
        "#making a list of all things needed to make a story\n",
        "when = ['Yesterday', 'On 20th june', 'A long time ago', 'Few years ago', 'Last night']\n",
        "who = ['a rabbit', 'an elephant', 'a mouse', 'a cat', 'a turtle']\n",
        "name = ['ali', 'marium', 'denial','HOOK', 'starwalker']\n",
        "residence = ['Barcelona', ' Germany','India', 'Venice', 'England']\n",
        "went = ['cinema', 'university', 'seminar', 'school', 'laundry']\n",
        "happened = ['made a lot of friends', 'eats a burger', 'found a secret key', 'solved a mystery', 'wrote a book']\n",
        "\n",
        "# using random.choice(seq) to randomly choose 1 element in list\n",
        "print(random.choice(when) + ',' + random.choice(who) + ' named ' + random.choice(name) + ' that lived in ' + random.choice(residence) + ' went to ' + random.choice(went) + ' and ' + random.choice(happened))"
      ],
      "metadata": {
        "id": "yUDs9eyL2yyK",
        "colab": {
          "base_uri": "https://localhost:8080/"
        },
        "outputId": "195244a3-f487-42d9-d42a-0bab6435fb06"
      },
      "execution_count": null,
      "outputs": [
        {
          "output_type": "stream",
          "name": "stdout",
          "text": [
            "A long time ago,a turtle named denial that lived in India went to cinema and solved a mystery\n"
          ]
        }
      ]
    },
    {
      "cell_type": "markdown",
      "source": [
        "# **Python Program to Generate Password**"
      ],
      "metadata": {
        "id": "pT8s1ZD8co2o"
      }
    },
    {
      "cell_type": "code",
      "source": [
        "import random #import random module\n",
        "user_input = int(input(\"Enter length of password: \")) #asking user for lenfth of password\n",
        "password = \"abcdefghijklmnopqrstuvwxyzABCDEFGHIJKLMNOPQRSTUVWXYZ0123456789~!@#$%^&*()_+=?><:;.,/\"    #elements we want in password\n",
        "a = \"\".join(random.sample(password, user_input)) #we used join method because result of random.sample(str, leng of str) is list.\n",
        "print(a)"
      ],
      "metadata": {
        "id": "mANN-sdUvZXK",
        "colab": {
          "base_uri": "https://localhost:8080/"
        },
        "outputId": "08189324-7a0b-4c6e-ddab-a29eeba08c43"
      },
      "execution_count": null,
      "outputs": [
        {
          "output_type": "stream",
          "name": "stdout",
          "text": [
            "Enter length of password: 7\n",
            "z4Vrj?c\n"
          ]
        }
      ]
    },
    {
      "cell_type": "markdown",
      "source": [
        "# **Make Your First Python Game: Rock, Paper, Scissors!**"
      ],
      "metadata": {
        "id": "KoLQejv5o070"
      }
    },
    {
      "cell_type": "markdown",
      "source": [
        "# **Rock, Paper and Scissors Game with Python**\n"
      ],
      "metadata": {
        "id": "M9MFZRWdo_IH"
      }
    },
    {
      "cell_type": "markdown",
      "source": [
        "### To create the Rock, Paper and Scissors game with Python, we need to take the user’s choice and then we need to compare it with the computer choice which is taken using the random module in Python from a list of choices, and if the user wins then the score will increase by 1:\n",
        "\n",
        "reference: https://realpython.com/python-rock-paper-scissors/\n",
        "reference: medium.com\n"
      ],
      "metadata": {
        "id": "ZgcF7bpWpJ54"
      }
    },
    {
      "cell_type": "code",
      "source": [
        "import random\n",
        "\n",
        "\n",
        "\n"
      ],
      "metadata": {
        "id": "4XVYy1aTvZRn"
      },
      "execution_count": null,
      "outputs": []
    },
    {
      "cell_type": "code",
      "source": [
        "import random\n",
        "choices = [\"Rock\", \"Paper\", \"Scissors\"]\n",
        "computer = random.choice(choices)\n",
        "player = False\n",
        "cpu_score = 0\n",
        "player_score = 0\n",
        "while True:\n",
        "    player = input(\"Rock, Paper or  Scissors?\").capitalize()\n",
        "    ## Conditions of Rock,Paper and Scissors\n",
        "    if player == computer:\n",
        "        print(\"Tie!\")\n",
        "    elif player == \"Rock\":\n",
        "        if computer == \"Paper\":\n",
        "            print(\"You lose!\", computer, \"covers\", player)\n",
        "            cpu_score+=1\n",
        "        else:\n",
        "            print(\"You win!\", player, \"smashes\", computer)\n",
        "            player_score+=1\n",
        "    elif player == \"Paper\":\n",
        "        if computer == \"Scissors\":\n",
        "            print(\"You lose!\", computer, \"cut\", player)\n",
        "            cpu_score+=1\n",
        "        else:\n",
        "            print(\"You win!\", player, \"covers\", computer)\n",
        "            player_score+=1\n",
        "    elif player == \"Scissors\":\n",
        "        if computer == \"Rock\":\n",
        "            print(\"You lose...\", computer, \"smashes\", player)\n",
        "            cpu_score+=1\n",
        "        else:\n",
        "            print(\"You win!\", player, \"cut\", computer)\n",
        "            player_score+=1\n",
        "    elif player=='End':\n",
        "        print(\"Final Scores:\")\n",
        "        print(f\"CPU:{cpu_score}\")\n",
        "        print(f\"Plaer:{player_score}\")\n",
        "        break"
      ],
      "metadata": {
        "id": "ubb6VNFovZOu",
        "colab": {
          "base_uri": "https://localhost:8080/"
        },
        "outputId": "c7766e35-9416-4471-cc88-093489dec5e2"
      },
      "execution_count": 1,
      "outputs": [
        {
          "output_type": "stream",
          "name": "stdout",
          "text": [
            "Rock, Paper or  Scissors?rock\n",
            "You lose! Paper covers Rock\n",
            "Rock, Paper or  Scissors?scissor\n",
            "Rock, Paper or  Scissors?scissors\n",
            "You win! Scissors cut Paper\n",
            "Rock, Paper or  Scissors?rock\n",
            "You lose! Paper covers Rock\n",
            "Rock, Paper or  Scissors?End\n",
            "Final Scores:\n",
            "CPU:2\n",
            "Plaer:1\n"
          ]
        }
      ]
    },
    {
      "cell_type": "markdown",
      "source": [
        "# QR Codes with Python\n",
        "QR = quick response\n",
        "\n",
        "\n",
        "definition - a machine-readable code consisting of an array of black and white squares"
      ],
      "metadata": {
        "id": "q3qGnk3Y4F3C"
      }
    },
    {
      "cell_type": "code",
      "source": [
        "import pyqrcode \n",
        "from pyqrcode import QRCode \n",
        "  \n",
        "# String which represent the QR code \n",
        "s = \"https://www.youtube.com/channel/UCeO9hPCfRzqb2yTuAn713Mg\"\n",
        "  \n",
        "# Generate QR code \n",
        "url = pyqrcode.create(s) \n",
        "  \n",
        "# Create and save the png file naming \"myqr.png\" \n",
        "url.svg(\"myyoutube.svg\", scale = 8) "
      ],
      "metadata": {
        "id": "w2PiBKbavZLv"
      },
      "execution_count": null,
      "outputs": []
    },
    {
      "cell_type": "code",
      "source": [
        "!pip install pyqrcode"
      ],
      "metadata": {
        "colab": {
          "base_uri": "https://localhost:8080/"
        },
        "id": "Y6tE_Ucl5gyS",
        "outputId": "6a815851-6e7a-476e-9f53-e90904c1afaa"
      },
      "execution_count": null,
      "outputs": [
        {
          "output_type": "stream",
          "name": "stdout",
          "text": [
            "Requirement already satisfied: pyqrcode in /usr/local/lib/python3.7/dist-packages (1.2.1)\n"
          ]
        }
      ]
    },
    {
      "cell_type": "code",
      "source": [
        "!pip install pypng\n"
      ],
      "metadata": {
        "colab": {
          "base_uri": "https://localhost:8080/"
        },
        "id": "AD18pMIf5nzo",
        "outputId": "0c260c3e-2dd0-403b-ed53-3fa1473ff5c5"
      },
      "execution_count": null,
      "outputs": [
        {
          "output_type": "stream",
          "name": "stdout",
          "text": [
            "Requirement already satisfied: pypng in /usr/local/lib/python3.7/dist-packages (0.0.21)\n"
          ]
        }
      ]
    },
    {
      "cell_type": "code",
      "source": [
        "\n",
        "# Import QRCode from pyqrcode\n",
        "import pyqrcode\n",
        "import png\n",
        "from pyqrcode import QRCode\n",
        "  \n",
        "  \n",
        "# String which represents the QR code\n",
        "s = \"www.geeksforgeeks.org\"\n",
        "  \n",
        "# Generate QR code\n",
        "url = pyqrcode.create(s)\n",
        "  \n",
        "# Create and save the svg file naming \"myqr.svg\"\n",
        "url.svg(\"myqr.svg\", scale = 8)\n",
        "  \n",
        "# Create and save the png file naming \"myqr.png\"\n",
        "url.png('myqr.png', scale = 6)"
      ],
      "metadata": {
        "id": "8FGTvqP7vZG8"
      },
      "execution_count": null,
      "outputs": []
    },
    {
      "cell_type": "markdown",
      "source": [
        "# Resume Screening with Natural Language Processing in Python"
      ],
      "metadata": {
        "id": "gfKGx9HR_kbQ"
      }
    },
    {
      "cell_type": "code",
      "source": [
        ""
      ],
      "metadata": {
        "id": "EBzhsCWmj8kX"
      },
      "execution_count": null,
      "outputs": []
    },
    {
      "cell_type": "code",
      "source": [
        ""
      ],
      "metadata": {
        "id": "BwENT35tj8ge"
      },
      "execution_count": null,
      "outputs": []
    },
    {
      "cell_type": "code",
      "source": [
        ""
      ],
      "metadata": {
        "id": "Cyo60YVzj8et"
      },
      "execution_count": null,
      "outputs": []
    },
    {
      "cell_type": "code",
      "source": [
        ""
      ],
      "metadata": {
        "id": "PfnmNjtYj8bm"
      },
      "execution_count": null,
      "outputs": []
    },
    {
      "cell_type": "code",
      "source": [
        ""
      ],
      "metadata": {
        "id": "B993J09pj8ag"
      },
      "execution_count": null,
      "outputs": []
    },
    {
      "cell_type": "code",
      "source": [
        ""
      ],
      "metadata": {
        "id": "ByYeYZ4aj8ZZ"
      },
      "execution_count": null,
      "outputs": []
    },
    {
      "cell_type": "code",
      "source": [
        ""
      ],
      "metadata": {
        "id": "pEXDNKr0kVEg"
      },
      "execution_count": null,
      "outputs": []
    }
  ]
}